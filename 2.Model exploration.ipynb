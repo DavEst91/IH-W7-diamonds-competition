{
 "cells": [
  {
   "cell_type": "code",
   "execution_count": 14,
   "metadata": {},
   "outputs": [],
   "source": [
    "import pandas as pd\n",
    "from src.data_cleansing import load_codified_data\n",
    "from sklearn.model_selection import train_test_split\n",
    "from sklearn.metrics import mean_squared_error"
   ]
  },
  {
   "cell_type": "code",
   "execution_count": 15,
   "metadata": {},
   "outputs": [],
   "source": [
    "data=load_codified_data(\"train\")\n",
    "X_train,X_test,y_train,y_test=train_test_split(data.drop(columns=\"price\"),data[\"price\"],random_state=3000,train_size=0.8)"
   ]
  },
  {
   "cell_type": "markdown",
   "metadata": {},
   "source": [
    "## Linear models "
   ]
  },
  {
   "cell_type": "code",
   "execution_count": 37,
   "metadata": {},
   "outputs": [
    {
     "name": "stdout",
     "output_type": "stream",
     "text": [
      "Training:LinearRegression\n",
      "RMSE=1188.6117321915717\n",
      "Training:Ridge\n",
      "RMSE=1188.543367616607\n",
      "Training:RidgeCV\n",
      "RMSE=1188.483533187624\n",
      "Training:SGDRegressor\n",
      "RMSE=61566695.57427024\n",
      "Training:ElasticNet\n",
      "RMSE=1798.0811819939447\n",
      "Training:Lars\n",
      "RMSE=1198.9003213005778\n",
      "Training:Lasso\n",
      "RMSE=1184.7364331486726\n",
      "Training:OrthogonalMatchingPursuit\n",
      "RMSE=1530.2844847091642\n"
     ]
    }
   ],
   "source": [
    "from sklearn.linear_model import LinearRegression,Ridge,RidgeCV,SGDRegressor,ElasticNet,Lars,Lasso,OrthogonalMatchingPursuit\n",
    "\n",
    "models_linear = {\n",
    "          \"LinearRegression\":LinearRegression(),\n",
    "          \"Ridge\":Ridge(),\n",
    "          \"RidgeCV\":RidgeCV(),\n",
    "          \"SGDRegressor\":SGDRegressor(),\n",
    "          \"ElasticNet\":ElasticNet(),\n",
    "          \"Lars\":Lars(),\n",
    "          \"Lasso\":Lasso(),\n",
    "          \"OrthogonalMatchingPursuit\":OrthogonalMatchingPursuit()\n",
    "         }\n",
    "\n",
    "for name,model in models_linear.items():\n",
    "    print(f\"Training:{name}\")\n",
    "    model=model.fit(X_train,y_train)\n",
    "    y_predict=model.predict(X_test)\n",
    "    print(f\"RMSE={mean_squared_error(y_predict,y_test)**0.5}\")"
   ]
  },
  {
   "cell_type": "markdown",
   "metadata": {},
   "source": [
    "## Non linear models "
   ]
  },
  {
   "cell_type": "code",
   "execution_count": 31,
   "metadata": {},
   "outputs": [],
   "source": [
    "from sklearn.ensemble import AdaBoostRegressor,BaggingRegressor,ExtraTreesRegressor,GradientBoostingRegressor\n",
    "from sklearn.ensemble import RandomForestRegressor,RandomTreesEmbedding\n",
    "\n",
    "models_non_linear={\n",
    "    \"AdaBoostRegressor\":AdaBoostRegressor(),\n",
    "    \"BaggingRegressor\":BaggingRegressor(),\n",
    "    \"ExtraTreesRegressor\":ExtraTreesRegressor(),\n",
    "    \"GradientBoostingRegressor\":GradientBoostingRegressor(),\n",
    "    \"RandomForestRegressor\":RandomForestRegressor()\n",
    "                }"
   ]
  },
  {
   "cell_type": "code",
   "execution_count": 39,
   "metadata": {},
   "outputs": [
    {
     "name": "stdout",
     "output_type": "stream",
     "text": [
      "Training:AdaBoostRegressor\n",
      "RMSE=1113.9269481289928\n",
      "Training:BaggingRegressor\n",
      "RMSE=591.030512315967\n",
      "Training:ExtraTreesRegressor\n",
      "RMSE=560.9094990571401\n",
      "Training:GradientBoostingRegressor\n",
      "RMSE=624.3927348723179\n",
      "Training:RandomForestRegressor\n",
      "RMSE=560.6937591763949\n"
     ]
    }
   ],
   "source": [
    "for name,model in models_non_linear.items():\n",
    "    print(f\"Training:{name}\")\n",
    "    model=model.fit(X_train,y_train)\n",
    "    y_predict=model.predict(X_test)\n",
    "    print(f\"RMSE={mean_squared_error(y_predict,y_test)**0.5}\")"
   ]
  },
  {
   "cell_type": "markdown",
   "metadata": {},
   "source": [
    "Comparing linear and non lineal models we can clearly see that those data have some non-linear effects that leads non-linear model to better results without any optimization"
   ]
  }
 ],
 "metadata": {
  "kernelspec": {
   "display_name": "Python 3",
   "language": "python",
   "name": "python3"
  },
  "language_info": {
   "codemirror_mode": {
    "name": "ipython",
    "version": 3
   },
   "file_extension": ".py",
   "mimetype": "text/x-python",
   "name": "python",
   "nbconvert_exporter": "python",
   "pygments_lexer": "ipython3",
   "version": "3.6.9"
  }
 },
 "nbformat": 4,
 "nbformat_minor": 2
}
