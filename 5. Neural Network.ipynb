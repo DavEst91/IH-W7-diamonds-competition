{
 "cells": [
  {
   "cell_type": "code",
   "execution_count": 4,
   "metadata": {
    "scrolled": false
   },
   "outputs": [
    {
     "name": "stdout",
     "output_type": "stream",
     "text": [
      "Model: \"model_2\"\n",
      "_________________________________________________________________\n",
      "Layer (type)                 Output Shape              Param #   \n",
      "=================================================================\n",
      "input_3 (InputLayer)         [(None, 23)]              0         \n",
      "_________________________________________________________________\n",
      "dense_8 (Dense)              (None, 100)               2400      \n",
      "_________________________________________________________________\n",
      "dense_9 (Dense)              (None, 50)                5050      \n",
      "_________________________________________________________________\n",
      "dense_10 (Dense)             (None, 10)                510       \n",
      "_________________________________________________________________\n",
      "dense_11 (Dense)             (None, 1)                 11        \n",
      "=================================================================\n",
      "Total params: 7,971\n",
      "Trainable params: 7,971\n",
      "Non-trainable params: 0\n",
      "_________________________________________________________________\n",
      "None\n",
      "Epoch 1/20\n",
      "12904/12904 [==============================] - 15s 1ms/step - loss: 1858407.7500 - mean_squared_error: 1858407.7500 - val_loss: 630262.8125 - val_mean_squared_error: 630262.8125\n",
      "Epoch 2/20\n",
      "12904/12904 [==============================] - 15s 1ms/step - loss: 626186.9375 - mean_squared_error: 626186.9375 - val_loss: 511257.9062 - val_mean_squared_error: 511257.9062\n",
      "Epoch 3/20\n",
      "12904/12904 [==============================] - 15s 1ms/step - loss: 538508.6875 - mean_squared_error: 538508.6875 - val_loss: 444108.3125 - val_mean_squared_error: 444108.3125\n",
      "Epoch 4/20\n",
      "12904/12904 [==============================] - 14s 1ms/step - loss: 496312.0938 - mean_squared_error: 496312.0938 - val_loss: 413675.5625 - val_mean_squared_error: 413675.5625\n",
      "Epoch 5/20\n",
      "12904/12904 [==============================] - 13s 1ms/step - loss: 462438.2500 - mean_squared_error: 462438.2500 - val_loss: 392478.4688 - val_mean_squared_error: 392478.4688\n",
      "Epoch 6/20\n",
      "12904/12904 [==============================] - 14s 1ms/step - loss: 445715.0312 - mean_squared_error: 445715.0312 - val_loss: 424901.2500 - val_mean_squared_error: 424901.2500\n",
      "Epoch 7/20\n",
      "12904/12904 [==============================] - 14s 1ms/step - loss: 431361.6250 - mean_squared_error: 431361.6250 - val_loss: 369467.5312 - val_mean_squared_error: 369467.5312\n",
      "Epoch 8/20\n",
      "12904/12904 [==============================] - 13s 1ms/step - loss: 423162.0000 - mean_squared_error: 423162.0000 - val_loss: 372366.8750 - val_mean_squared_error: 372366.8750\n",
      "Epoch 9/20\n",
      "12904/12904 [==============================] - 13s 1ms/step - loss: 418176.5312 - mean_squared_error: 418176.5312 - val_loss: 367159.4375 - val_mean_squared_error: 367159.4375\n",
      "Epoch 10/20\n",
      "12904/12904 [==============================] - 13s 1ms/step - loss: 409721.6875 - mean_squared_error: 409721.6875 - val_loss: 345111.0000 - val_mean_squared_error: 345111.0000\n",
      "Epoch 11/20\n",
      "12904/12904 [==============================] - 13s 1ms/step - loss: 407580.9375 - mean_squared_error: 407580.9375 - val_loss: 368097.9688 - val_mean_squared_error: 368097.9688\n",
      "Epoch 12/20\n",
      "12904/12904 [==============================] - 14s 1ms/step - loss: 399911.5938 - mean_squared_error: 399911.5938 - val_loss: 368514.9062 - val_mean_squared_error: 368514.9062\n",
      "Epoch 13/20\n",
      "12904/12904 [==============================] - 14s 1ms/step - loss: 396598.1250 - mean_squared_error: 396598.1250 - val_loss: 367824.4688 - val_mean_squared_error: 367824.4688\n",
      "Epoch 14/20\n",
      "12904/12904 [==============================] - 15s 1ms/step - loss: 392608.5000 - mean_squared_error: 392608.5000 - val_loss: 341066.0625 - val_mean_squared_error: 341066.0625\n",
      "Epoch 15/20\n",
      "12904/12904 [==============================] - 14s 1ms/step - loss: 385553.9688 - mean_squared_error: 385553.9688 - val_loss: 351001.7188 - val_mean_squared_error: 351001.7188\n",
      "Epoch 16/20\n",
      "12904/12904 [==============================] - 14s 1ms/step - loss: 387200.7188 - mean_squared_error: 387200.7188 - val_loss: 330251.1562 - val_mean_squared_error: 330251.1562\n",
      "Epoch 17/20\n",
      "12904/12904 [==============================] - 14s 1ms/step - loss: 382733.1250 - mean_squared_error: 382733.1250 - val_loss: 320023.5000 - val_mean_squared_error: 320023.5000\n",
      "Epoch 18/20\n",
      "12904/12904 [==============================] - 14s 1ms/step - loss: 381079.9375 - mean_squared_error: 381079.9375 - val_loss: 325008.5000 - val_mean_squared_error: 325008.5000\n",
      "Epoch 19/20\n",
      "12904/12904 [==============================] - 14s 1ms/step - loss: 379751.0312 - mean_squared_error: 379751.0312 - val_loss: 340009.2188 - val_mean_squared_error: 340009.2188\n",
      "Epoch 20/20\n",
      "12904/12904 [==============================] - 14s 1ms/step - loss: 375108.0938 - mean_squared_error: 375108.0938 - val_loss: 328519.5938 - val_mean_squared_error: 328519.5938\n"
     ]
    }
   ],
   "source": [
    "import seaborn as sns\n",
    "import pandas as pd\n",
    "import numpy as np\n",
    "import tensorflow as tf\n",
    "\n",
    "from tensorflow.keras.layers import Input, Dense, Dropout, Activation\n",
    "from tensorflow.keras.models import Model\n",
    "from sklearn.preprocessing import StandardScaler,MinMaxScaler\n",
    "from sklearn.metrics import mean_squared_error,r2_score\n",
    "from sklearn.model_selection import train_test_split\n",
    "from src.data_cleansing import load_codified_data\n",
    "\n",
    "data=load_codified_data(\"train\")\n",
    "features = data.drop(['price'], axis=1).values\n",
    "labels = data['price'].values\n",
    "\n",
    "\n",
    "numeric_data= data.drop(['cut','color', 'clarity'], axis=1)\n",
    "\n",
    "cut_onehot = pd.get_dummies(data.cut).iloc[:,1:]\n",
    "color_onehot = pd.get_dummies(data.color).iloc[:,1:]\n",
    "clarity_onehot = pd.get_dummies(data.clarity).iloc[:,1:]\n",
    "\n",
    "cut_onehot.head()\n",
    "\n",
    "reg_dataset = pd.concat([numeric_data,cut_onehot, color_onehot,clarity_onehot], axis=1)\n",
    "\n",
    "features = reg_dataset.drop(['price'], axis=1).values\n",
    "\n",
    "labels = reg_dataset['price'].values\n",
    "\n",
    "from sklearn.model_selection import train_test_split\n",
    "\n",
    "X_train, X_test, y_train, y_test = train_test_split(features, labels, test_size=0.2, random_state=40)\n",
    "\n",
    "\n",
    "sc = StandardScaler()\n",
    "X_train = sc.fit_transform(X_train)\n",
    "X_test = sc.transform(X_test)\n",
    "\n",
    "input_layer = Input(shape=(features.shape[1],))\n",
    "l1 = Dense(100, activation='relu')(input_layer)\n",
    "l2 = Dense(50, activation='relu')(l1)\n",
    "l3 = Dense(10, activation='relu')(l2)\n",
    "output = Dense(1)(l3)\n",
    "\n",
    "model = Model(inputs=input_layer, outputs=output)\n",
    "model.compile(loss=\"mean_squared_error\" , optimizer=\"adam\", metrics=[\"mean_squared_error\"])\n",
    "\n",
    "print(model.summary())\n",
    "\n",
    "history = model.fit(X_train, y_train, batch_size=2, epochs=20, verbose=1, validation_split=0.2)\n",
    "\n",
    "y_predicted=model.predict(X_test)\n",
    "\n"
   ]
  },
  {
   "cell_type": "code",
   "execution_count": 8,
   "metadata": {},
   "outputs": [
    {
     "name": "stdout",
     "output_type": "stream",
     "text": [
      "R2=0.9766929406589642, RMSE=610.7301198139124\n"
     ]
    }
   ],
   "source": [
    "from sklearn.metrics import r2_score\n",
    "\n",
    "RMSE=mean_squared_error(y_test,y_predicted)**0.5\n",
    "\n",
    "R2=r2_score(y_test,y_predicted)\n",
    "\n",
    "print(f\"R2={R2}, RMSE={RMSE}\")"
   ]
  },
  {
   "cell_type": "code",
   "execution_count": null,
   "metadata": {},
   "outputs": [],
   "source": []
  }
 ],
 "metadata": {
  "kernelspec": {
   "display_name": "Python 3",
   "language": "python",
   "name": "python3"
  },
  "language_info": {
   "codemirror_mode": {
    "name": "ipython",
    "version": 3
   },
   "file_extension": ".py",
   "mimetype": "text/x-python",
   "name": "python",
   "nbconvert_exporter": "python",
   "pygments_lexer": "ipython3",
   "version": "3.6.9"
  }
 },
 "nbformat": 4,
 "nbformat_minor": 2
}
